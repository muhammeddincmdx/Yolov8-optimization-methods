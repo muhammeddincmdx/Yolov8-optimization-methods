{
 "cells": [
  {
   "cell_type": "code",
   "execution_count": 1,
   "metadata": {},
   "outputs": [
    {
     "name": "stdout",
     "output_type": "stream",
     "text": [
      "Ultralytics YOLOv8.2.96  Python-3.10.0 torch-2.4.1+cu118 CPU (12th Gen Intel Core(TM) i5-12450H)\n",
      "YOLOv8n summary (fused): 168 layers, 3,151,904 parameters, 0 gradients, 8.7 GFLOPs\n",
      "\n",
      "\u001b[34m\u001b[1mPyTorch:\u001b[0m starting from 'yolov8n.pt' with input shape (1, 3, 640, 640) BCHW and output shape(s) (1, 84, 8400) (6.2 MB)\n",
      "\n",
      "\u001b[34m\u001b[1mOpenVINO:\u001b[0m starting export with openvino 2024.4.0-16579-c3152d32c9c-releases/2024/4...\n",
      "\u001b[34m\u001b[1mOpenVINO:\u001b[0m export success  9.9s, saved as 'yolov8n_openvino_model\\' (12.3 MB)\n",
      "\n",
      "Export complete (13.7s)\n",
      "Results saved to \u001b[1mC:\\Users\\LENOVO\\Downloads\\optimizationforyolov8\u001b[0m\n",
      "Predict:         yolo predict task=detect model=yolov8n_openvino_model imgsz=640  \n",
      "Validate:        yolo val task=detect model=yolov8n_openvino_model imgsz=640 data=coco.yaml  \n",
      "Visualize:       https://netron.app\n",
      "WARNING  Unable to automatically guess model task, assuming 'task=detect'. Explicitly define task for your model, i.e. 'task=detect', 'segment', 'classify','pose' or 'obb'.\n"
     ]
    }
   ],
   "source": [
    "from ultralytics import YOLO\n",
    "\n",
    "# Load a YOLOv8n PyTorch model\n",
    "model = YOLO(\"yolov8n.pt\")\n",
    "\n",
    "# Export the model\n",
    "model.export(format=\"openvino\")  # creates 'yolov8n_openvino_model/'\n",
    "\n",
    "# Load the exported OpenVINO model\n",
    "ov_model = YOLO(\"yolov8n_openvino_model/\")\n"
   ]
  }
 ],
 "metadata": {
  "kernelspec": {
   "display_name": "Python 3",
   "language": "python",
   "name": "python3"
  },
  "language_info": {
   "codemirror_mode": {
    "name": "ipython",
    "version": 3
   },
   "file_extension": ".py",
   "mimetype": "text/x-python",
   "name": "python",
   "nbconvert_exporter": "python",
   "pygments_lexer": "ipython3",
   "version": "3.10.0"
  }
 },
 "nbformat": 4,
 "nbformat_minor": 2
}
