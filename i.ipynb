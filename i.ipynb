{
 "cells": [
  {
   "cell_type": "code",
   "execution_count": 10,
   "metadata": {},
   "outputs": [
    {
     "name": "stdout",
     "output_type": "stream",
     "text": [
      "--System Information--\n",
      "Processor: Intel64 Family 6 Model 154 Stepping 3, GenuineIntel\n",
      "\n",
      "--CPU Information--\n",
      "CPU Core Count: 12\n",
      "CPU Frequency: 2000.0 MHz\n",
      "\n",
      "--GPU Information--\n",
      "GPU: NVIDIA GeForce RTX 3050 Laptop GPU\n",
      "Memory: 4096.0 MB\n",
      "Used Memory: 1282.0 MB\n",
      "Free Memory: 2694.0 MB\n",
      "Load: 0.0%\n"
     ]
    }
   ],
   "source": [
    "import psutil\n",
    "import platform\n",
    "\n",
    "# Get CPU information\n",
    "def cpu_info():\n",
    "    cpu_count = psutil.cpu_count(logical=True)\n",
    "    cpu_freq = psutil.cpu_freq()\n",
    "    print(f\"CPU Core Count: {cpu_count}\")\n",
    "    print(f\"CPU Frequency: {cpu_freq.current} MHz\")\n",
    "\n",
    "# Get GPU information\n",
    "def gpu_info():\n",
    "    try:\n",
    "        from GPUtil import getGPUs\n",
    "        gpus = getGPUs()\n",
    "        if gpus:\n",
    "            for gpu in gpus:\n",
    "                print(f\"GPU: {gpu.name}\")\n",
    "                print(f\"Memory: {gpu.memoryTotal} MB\")\n",
    "                print(f\"Used Memory: {gpu.memoryUsed} MB\")\n",
    "                print(f\"Free Memory: {gpu.memoryFree} MB\")\n",
    "                print(f\"Load: {gpu.load * 100}%\")\n",
    "        else:\n",
    "            print(\"Unable to retrieve GPU information.\")\n",
    "    except ImportError:\n",
    "        print(\"GPUtil library is not installed. Run 'pip install gputil' to install it.\")\n",
    "\n",
    "# Get system information\n",
    "def system_info():\n",
    "    print(f\"Processor: {platform.processor()}\")\n",
    "\n",
    "if __name__ == \"__main__\":\n",
    "    print(\"--System Information--\")\n",
    "    system_info()\n",
    "    print(\"\\n--CPU Information--\")\n",
    "    cpu_info()\n",
    "    print(\"\\n--GPU Information--\")\n",
    "    gpu_info()\n"
   ]
  },
  {
   "cell_type": "code",
   "execution_count": null,
   "metadata": {},
   "outputs": [],
   "source": []
  }
 ],
 "metadata": {
  "kernelspec": {
   "display_name": "Python 3",
   "language": "python",
   "name": "python3"
  },
  "language_info": {
   "codemirror_mode": {
    "name": "ipython",
    "version": 3
   },
   "file_extension": ".py",
   "mimetype": "text/x-python",
   "name": "python",
   "nbconvert_exporter": "python",
   "pygments_lexer": "ipython3",
   "version": "3.10.0"
  }
 },
 "nbformat": 4,
 "nbformat_minor": 2
}
